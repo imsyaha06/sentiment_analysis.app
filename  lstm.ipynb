{
 "cells": [
  {
   "cell_type": "code",
   "execution_count": 1,
   "id": "81072bc0-75b9-4aaa-bb18-f688147f4016",
   "metadata": {},
   "outputs": [],
   "source": [
    "import pandas as pd\n",
    "import numpy as np\n",
    "import tensorflow as tf\n",
    "from tensorflow.keras.models import Sequential\n",
    "from tensorflow.keras.layers import Embedding, LSTM, Dense, Dropout, Bidirectional\n",
    "from tensorflow.keras.preprocessing.text import Tokenizer\n",
    "from tensorflow.keras.preprocessing.sequence import pad_sequences\n",
    "from tensorflow.keras.callbacks import EarlyStopping\n",
    "from sklearn.model_selection import train_test_split\n",
    "from sklearn.metrics import classification_report, confusion_matrix\n",
    "import matplotlib.pyplot as plt\n",
    "import seaborn as sns"
   ]
  },
  {
   "cell_type": "code",
   "execution_count": 2,
   "id": "4a094f51-dc62-442a-9951-3aaceadd30ce",
   "metadata": {},
   "outputs": [],
   "source": [
    "# Load the dataset\n",
    "# review_csv_path = 'yelp.csv'\n",
    "df_rev = pd.read_csv('yelp.csv')"
   ]
  },
  {
   "cell_type": "code",
   "execution_count": 3,
   "id": "123f8397-2600-450c-a7a3-0ea05144f3cd",
   "metadata": {},
   "outputs": [],
   "source": [
    "# Data preprocessing\n",
    "df_rev = df_rev.dropna()\n",
    "df_rev['binary_rating'] = np.where(df_rev['stars'] > 3, 1, 0)"
   ]
  },
  {
   "cell_type": "code",
   "execution_count": 4,
   "id": "cc31e82b-c6e0-46fd-80d4-1c8bae6bc6d5",
   "metadata": {},
   "outputs": [],
   "source": [
    "# Balancing the dataset\n",
    "positive = df_rev[df_rev['binary_rating'] == 1]\n",
    "negative = df_rev[df_rev['binary_rating'] == 0]\n",
    "max_count = min(len(positive), len(negative))\n",
    "balanced_df = pd.concat([positive.sample(n=max_count), negative.sample(n=max_count)])\n",
    "balanced_df = balanced_df.sample(frac=1, random_state=42).reset_index(drop=True)"
   ]
  },
  {
   "cell_type": "code",
   "execution_count": 5,
   "id": "63df3321-2d7f-470e-8f39-6f493a5e41d6",
   "metadata": {},
   "outputs": [],
   "source": [
    "# Splitting data\n",
    "train_data, test_data, train_labels, test_labels = train_test_split(\n",
    "    balanced_df['text'], balanced_df['binary_rating'], test_size=0.2, random_state=42\n",
    ")"
   ]
  },
  {
   "cell_type": "code",
   "execution_count": 6,
   "id": "59a97084-52c4-4485-9b0b-b20bda65f42e",
   "metadata": {},
   "outputs": [],
   "source": [
    "# Tokenizing and padding\n",
    "tokenizer = Tokenizer(num_words=5000, oov_token='<OOV>')   \n",
    "tokenizer.fit_on_texts(train_data)\n",
    "train_sequences = tokenizer.texts_to_sequences(train_data)\n",
    "train_padded = pad_sequences(train_sequences, maxlen=300, padding='post', truncating='post')  \n",
    "\n",
    "test_sequences = tokenizer.texts_to_sequences(test_data)\n",
    "test_padded = pad_sequences(test_sequences, maxlen=300, padding='post', truncating='post')"
   ]
  },
  {
   "cell_type": "code",
   "execution_count": 7,
   "id": "915febfc-67d2-486c-86dd-405822fc790a",
   "metadata": {},
   "outputs": [],
   "source": [
    "import pickle\n",
    "\n",
    "# Save the tokenizer\n",
    "with open('tokenizer2.pkl', 'wb') as handle:\n",
    "    pickle.dump(tokenizer, handle, protocol=pickle.HIGHEST_PROTOCOL)"
   ]
  },
  {
   "cell_type": "code",
   "execution_count": 8,
   "id": "4d3bfefc-ee13-447c-8142-1cc17c322a1e",
   "metadata": {},
   "outputs": [
    {
     "name": "stderr",
     "output_type": "stream",
     "text": [
      "C:\\Users\\Rana Comuter\\AppData\\Local\\Programs\\Python\\Python311\\Lib\\site-packages\\keras\\src\\layers\\core\\embedding.py:90: UserWarning: Argument `input_length` is deprecated. Just remove it.\n",
      "  warnings.warn(\n"
     ]
    }
   ],
   "source": [
    "# Building the LSTM model\n",
    "model = Sequential([\n",
    "    Embedding(input_dim=5001, output_dim=128, input_length=300),\n",
    "    Bidirectional(LSTM(128, dropout=0.3, recurrent_dropout=0.3)),\n",
    "    Dropout(0.4),\n",
    "    Dense(100, activation='relu'),\n",
    "    Dropout(0.5),\n",
    "    Dense(1, activation='sigmoid')\n",
    "])"
   ]
  },
  {
   "cell_type": "code",
   "execution_count": 9,
   "id": "384412b8-bdc3-4d60-9a5d-04c4e76d571f",
   "metadata": {},
   "outputs": [],
   "source": [
    "# Compile model\n",
    "model.compile(loss=\"binary_crossentropy\", optimizer=\"adam\", metrics=[\"accuracy\"])"
   ]
  },
  {
   "cell_type": "code",
   "execution_count": 17,
   "id": "da277cd6-5150-4b85-badf-f01e98b6e207",
   "metadata": {},
   "outputs": [
    {
     "name": "stdout",
     "output_type": "stream",
     "text": [
      "Epoch 1/15\n",
      "\u001b[1m126/126\u001b[0m \u001b[32m━━━━━━━━━━━━━━━━━━━━\u001b[0m\u001b[37m\u001b[0m \u001b[1m140s\u001b[0m 1s/step - accuracy: 0.8323 - loss: 0.4100 - val_accuracy: 0.7062 - val_loss: 0.6137\n",
      "Epoch 2/15\n",
      "\u001b[1m126/126\u001b[0m \u001b[32m━━━━━━━━━━━━━━━━━━━━\u001b[0m\u001b[37m\u001b[0m \u001b[1m152s\u001b[0m 1s/step - accuracy: 0.8804 - loss: 0.3190 - val_accuracy: 0.7181 - val_loss: 0.6599\n",
      "Epoch 3/15\n",
      "\u001b[1m126/126\u001b[0m \u001b[32m━━━━━━━━━━━━━━━━━━━━\u001b[0m\u001b[37m\u001b[0m \u001b[1m199s\u001b[0m 1s/step - accuracy: 0.8959 - loss: 0.2690 - val_accuracy: 0.7131 - val_loss: 0.7049\n",
      "Epoch 4/15\n",
      "\u001b[1m126/126\u001b[0m \u001b[32m━━━━━━━━━━━━━━━━━━━━\u001b[0m\u001b[37m\u001b[0m \u001b[1m196s\u001b[0m 1s/step - accuracy: 0.9175 - loss: 0.2175 - val_accuracy: 0.6942 - val_loss: 0.7993\n"
     ]
    }
   ],
   "source": [
    "# Train model\n",
    "early_stop = EarlyStopping(monitor='val_loss', patience=3, restore_best_weights=True)\n",
    "history = model.fit(train_padded, train_labels, epochs=15, validation_split=0.2, batch_size=32, callbacks=[early_stop])"
   ]
  },
  {
   "cell_type": "code",
   "execution_count": 18,
   "id": "977c9786-440e-4ec5-a262-3c89f60224af",
   "metadata": {},
   "outputs": [
    {
     "name": "stdout",
     "output_type": "stream",
     "text": [
      "\u001b[1m40/40\u001b[0m \u001b[32m━━━━━━━━━━━━━━━━━━━━\u001b[0m\u001b[37m\u001b[0m \u001b[1m12s\u001b[0m 287ms/step - accuracy: 0.7253 - loss: 0.6060\n",
      "Test Accuracy: 0.737051784992218\n"
     ]
    }
   ],
   "source": [
    "# Evaluate model\n",
    "loss, accuracy = model.evaluate(test_padded, test_labels)\n",
    "print(f\"Test Accuracy: {accuracy}\")"
   ]
  },
  {
   "cell_type": "code",
   "execution_count": 19,
   "id": "7da13fda-9acc-4095-9c22-baf8366ae47a",
   "metadata": {},
   "outputs": [
    {
     "name": "stdout",
     "output_type": "stream",
     "text": [
      "\u001b[1m40/40\u001b[0m \u001b[32m━━━━━━━━━━━━━━━━━━━━\u001b[0m\u001b[37m\u001b[0m \u001b[1m10s\u001b[0m 226ms/step\n",
      "              precision    recall  f1-score   support\n",
      "\n",
      "           0       0.75      0.72      0.73       631\n",
      "           1       0.73      0.75      0.74       624\n",
      "\n",
      "    accuracy                           0.74      1255\n",
      "   macro avg       0.74      0.74      0.74      1255\n",
      "weighted avg       0.74      0.74      0.74      1255\n",
      "\n"
     ]
    }
   ],
   "source": [
    "# Classification report\n",
    "test_predictions = model.predict(test_padded)\n",
    "binary_predictions = (test_predictions > 0.5).astype(int)\n",
    "print(classification_report(test_labels, binary_predictions))"
   ]
  },
  {
   "cell_type": "code",
   "execution_count": 20,
   "id": "b1ef822b-981c-4a96-a1a6-a9ddc89b9d8a",
   "metadata": {},
   "outputs": [
    {
     "data": {
      "image/png": "[encoded data removed]",
      "text/plain": [
       "<Figure size 800x600 with 2 Axes>"
      ]
     },
     "metadata": {},
     "output_type": "display_data"
    }
   ],
   "source": [
    "# Confusion matrix\n",
    "confusion_mtx = confusion_matrix(test_labels, binary_predictions)\n",
    "plt.figure(figsize=(8, 6))\n",
    "sns.heatmap(confusion_mtx, annot=True, fmt=\"d\", cmap=\"Blues\", xticklabels=['Negative', 'Positive'], yticklabels=['Negative', 'Positive'])\n",
    "plt.xlabel(\"Predicted\")\n",
    "plt.ylabel(\"Actual\")\n",
    "plt.title(\"Confusion Matrix\")\n",
    "plt.show()"
   ]
  },
  {
   "cell_type": "code",
   "execution_count": 21,
   "id": "d2c70c54-7b52-48e2-b08b-cdd6fdb41edc",
   "metadata": {},
   "outputs": [
    {
     "name": "stderr",
     "output_type": "stream",
     "text": [
      "WARNING:absl:You are saving your model as an HDF5 file via `model.save()` or `keras.saving.save_model(model)`. This file format is considered legacy. We recommend using instead the native Keras format, e.g. `model.save('my_model.keras')` or `keras.saving.save_model(model, 'my_model.keras')`. \n"
     ]
    }
   ],
   "source": [
    "# Save the model as a .h5 file\n",
    "model.save('lstm_sentiment_model.h5')"
   ]
  },
  {
   "cell_type": "code",
   "execution_count": null,
   "id": "11b08c95-a4f9-4f00-81d2-870c038890a4",
   "metadata": {},
   "outputs": [],
   "source": []
  }
 ],
 "metadata": {
  "kernelspec": {
   "display_name": "Python 3 (ipykernel)",
   "language": "python",
   "name": "python3"
  },
  "language_info": {
   "codemirror_mode": {
    "name": "ipython",
    "version": 3
   },
   "file_extension": ".py",
   "mimetype": "text/x-python",
   "name": "python",
   "nbconvert_exporter": "python",
   "pygments_lexer": "ipython3",
   "version": "3.11.5"
  }
 },
 "nbformat": 4,
 "nbformat_minor": 5
}
